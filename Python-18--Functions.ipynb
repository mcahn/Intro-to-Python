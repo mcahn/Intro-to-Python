{
 "cells": [
  {
   "cell_type": "markdown",
   "metadata": {},
   "source": [
    "## Functions\n",
    "\n",
    "- A function is used to package some code in a way that is easy to test and re-use.\n",
    "- You have already used functions.\n",
    "  - Some functions, like \"print\" are built-in functions.\n",
    "  - But you can make your own functions."
   ]
  },
  {
   "cell_type": "code",
   "execution_count": 1,
   "metadata": {},
   "outputs": [],
   "source": [
    "# Function example:\n",
    "\n",
    "def celsiusToFahrenheit(temp_in_c):\n",
    "    temp_in_f = (9 / 5) * temp_in_c + 32\n",
    "    return temp_in_f"
   ]
  },
  {
   "cell_type": "code",
   "execution_count": 2,
   "metadata": {
    "collapsed": true
   },
   "outputs": [
    {
     "name": "stdout",
     "output_type": "stream",
     "text": [
      "100.0 C is 212.0 F\n",
      "0.0 C is 32.0 F\n",
      "-40.0 C is -40.0 F\n"
     ]
    }
   ],
   "source": [
    "c = 100.0\n",
    "f = celsiusToFahrenheit(c)\n",
    "print(c, 'C is', f, 'F') \n",
    "\n",
    "c = 0.0\n",
    "f = celsiusToFahrenheit(c)\n",
    "print(c, 'C is', f, 'F')\n",
    "\n",
    "c = -40.0\n",
    "f = celsiusToFahrenheit(c)\n",
    "print(c, 'C is', f, 'F')"
   ]
  },
  {
   "cell_type": "markdown",
   "metadata": {},
   "source": [
    "## Exercise 18\n",
    "\n",
    "- Write a function that converts Fahrenheit to Celsius\n",
    "- Print a Fahrenheit to Celsius conversion table from 32 F to 212 F\n",
    "- The forumla is:\n",
    "  - C = 5/9 x (F - 32)\n",
    "  \n",
    "- Hints:\n",
    "  - You will need a for loop using the range function.\n",
    "  - Parentheses effect the order of arithmetic operations."
   ]
  },
  {
   "cell_type": "code",
   "execution_count": null,
   "metadata": {},
   "outputs": [],
   "source": []
  }
 ],
 "metadata": {
  "kernelspec": {
   "display_name": "Python 3",
   "language": "python",
   "name": "python3"
  },
  "language_info": {
   "codemirror_mode": {
    "name": "ipython",
    "version": 3
   },
   "file_extension": ".py",
   "mimetype": "text/x-python",
   "name": "python",
   "nbconvert_exporter": "python",
   "pygments_lexer": "ipython3",
   "version": "3.8.8"
  }
 },
 "nbformat": 4,
 "nbformat_minor": 4
}

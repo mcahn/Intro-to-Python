{
 "cells": [
  {
   "cell_type": "markdown",
   "metadata": {},
   "source": [
    "## Exercise 11\n",
    "\n",
    "- Modify the code below.\n",
    "- The first line of the file is the column headings.\n",
    "- Print every column heading on a separate line, along with a number that represents which column the heading comes from.\n",
    "- The numbering should start from zero.\n",
    "- For example:\n",
    "\n",
    "```\n",
    "0 Date Of Stop\n",
    "1 Time Of Stop\n",
    "2 Agency\n",
    "...\n",
    "```\n",
    "- See notebooks Python-08--Lists-and-Methods and Python-10--String-Split-Method\n",
    "\n",
    "- Option: to simplify the exercise, don't bother to number the columns:\n",
    "\n",
    "```\n",
    "Date Of Stop\n",
    "Time Of Stop\n",
    "Agency\n",
    "...\n",
    "```\n"
   ]
  },
  {
   "cell_type": "code",
   "execution_count": 1,
   "metadata": {},
   "outputs": [],
   "source": [
    "openFile = open('Traffic_Violations-short.csv')\n",
    "\n",
    "for line in openFile:\n",
    "    # Now we've got the first line of the file in the variable \"line\".\n",
    "    # So stop reading the file.\n",
    "    break\n",
    "    \n",
    "openFile.close()\n",
    "\n",
    "# Your code goes here:\n"
   ]
  },
  {
   "cell_type": "code",
   "execution_count": null,
   "metadata": {},
   "outputs": [],
   "source": []
  }
 ],
 "metadata": {
  "kernelspec": {
   "display_name": "Python 3 (ipykernel)",
   "language": "python",
   "name": "python3"
  },
  "language_info": {
   "codemirror_mode": {
    "name": "ipython",
    "version": 3
   },
   "file_extension": ".py",
   "mimetype": "text/x-python",
   "name": "python",
   "nbconvert_exporter": "python",
   "pygments_lexer": "ipython3",
   "version": "3.9.7"
  }
 },
 "nbformat": 4,
 "nbformat_minor": 4
}

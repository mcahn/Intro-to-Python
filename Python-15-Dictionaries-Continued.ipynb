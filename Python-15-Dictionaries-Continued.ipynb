{
 "cells": [
  {
   "cell_type": "markdown",
   "metadata": {},
   "source": [
    "## Dictionaries continued"
   ]
  },
  {
   "cell_type": "markdown",
   "metadata": {},
   "source": [
    "## Exercise 15\n",
    "\n",
    "- Modify the cell below to count how often each make of car is involved in a traffic violation.\n",
    "\n",
    "- Hints:\n",
    "  - Each make of car will be a dictionary key.\n",
    "  - The count for each make will be a dictionary value.\n",
    "  - The first for loop (the one that reads the file) will do the counting\n",
    "  - You will need an \"if\" statement to check if a make is in the dictionary or not.\n",
    "  - A second for loop (that you add) will print the makes and their counts.\n",
    "  - See notebook Python-13--If-Statements"
   ]
  },
  {
   "cell_type": "code",
   "execution_count": 1,
   "metadata": {},
   "outputs": [],
   "source": [
    "openFile = open('Traffic_Violations-filtered.csv')\n",
    "\n",
    "for line in openFile:\n",
    "    columns = line.split('|')\n",
    "    \n",
    "    make = columns[21]\n",
    "        \n",
    "openFile.close()"
   ]
  },
  {
   "cell_type": "code",
   "execution_count": null,
   "metadata": {},
   "outputs": [],
   "source": []
  }
 ],
 "metadata": {
  "kernelspec": {
   "display_name": "Python 3",
   "language": "python",
   "name": "python3"
  },
  "language_info": {
   "codemirror_mode": {
    "name": "ipython",
    "version": 3
   },
   "file_extension": ".py",
   "mimetype": "text/x-python",
   "name": "python",
   "nbconvert_exporter": "python",
   "pygments_lexer": "ipython3",
   "version": "3.8.8"
  }
 },
 "nbformat": 4,
 "nbformat_minor": 4
}

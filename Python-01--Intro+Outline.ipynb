{
 "cells": [
  {
   "cell_type": "markdown",
   "metadata": {},
   "source": [
    "## Introduction\n",
    "\n",
    "```\n",
    "Matthew Cahn\n",
    "Programmer / System Administrator / Lecturer\n",
    "OIT Research Computing / Department of Molecular Biology\n",
    "mcahn@princeton.edu\n",
    "```"
   ]
  },
  {
   "cell_type": "markdown",
   "metadata": {},
   "source": [
    "## Python topics\n",
    "\n",
    "- Jupyter\n",
    "- Variables\n",
    "- Data types: Strings, integers, lists, dictionaries, tuples\n",
    "- \"for\" loops\n",
    "- Reading data from a file\n",
    "- \"if\" statements\n",
    "- functions"
   ]
  },
  {
   "cell_type": "markdown",
   "metadata": {},
   "source": [
    "## Our task\n",
    "\n",
    "- Analyze traffic violations\n",
    "  - Which makes of car are involved in the most traffic violations?"
   ]
  },
  {
   "cell_type": "markdown",
   "metadata": {},
   "source": [
    "## Expectations\n",
    "\n",
    "- This is an introduction\n",
    "- Programmming takes practice\n",
    "- You need a real problem to work on"
   ]
  },
  {
   "cell_type": "markdown",
   "metadata": {},
   "source": [
    "## Book suggestion\n",
    "\n",
    "Python for Data Analysis, 2nd Edition, Wes McKinney, O'Reilly Media, Inc.\n",
    "\n",
    "- Available for free, online, on Princeton's Safari book service:\n",
    "\n",
    "- https://learning.oreilly.com/library/view/python-for-data/9781491957653/"
   ]
  },
  {
   "cell_type": "markdown",
   "metadata": {},
   "source": [
    "## Acknowledgements\n",
    "\n",
    "- Dr. Gabriel Perez-Giz\n",
    "- Ma. Florevel (Floe) Fusin-Wischusen\n",
    "- Andrea Rubinstein\n",
    "- PICSciE -- The Princeton Institute for Computational Science and Engineering"
   ]
  },
  {
   "cell_type": "code",
   "execution_count": null,
   "metadata": {},
   "outputs": [],
   "source": []
  }
 ],
 "metadata": {
  "kernelspec": {
   "display_name": "Python 3",
   "language": "python",
   "name": "python3"
  },
  "language_info": {
   "codemirror_mode": {
    "name": "ipython",
    "version": 3
   },
   "file_extension": ".py",
   "mimetype": "text/x-python",
   "name": "python",
   "nbconvert_exporter": "python",
   "pygments_lexer": "ipython3",
   "version": "3.8.8"
  }
 },
 "nbformat": 4,
 "nbformat_minor": 4
}

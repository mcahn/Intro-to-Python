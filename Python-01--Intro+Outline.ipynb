{
 "cells": [
  {
   "cell_type": "markdown",
   "metadata": {},
   "source": [
    "## Introduction\n",
    "\n",
    "```\n",
    "Matthew Cahn\n",
    "Programmer / System Administrator / Lecturer\n",
    "OIT Research Computing / Department of Molecular Biology\n",
    "mcahn@princeton.edu\n",
    "```"
   ]
  },
  {
   "cell_type": "markdown",
   "metadata": {},
   "source": [
    "## Python topics\n",
    "\n",
    "- Jupyter\n",
    "- Variables\n",
    "- Data types: Strings, integers, lists, dictionaries, tuples\n",
    "- \"for\" loops\n",
    "- Reading data from a file\n",
    "- \"if\" statements\n",
    "- functions"
   ]
  },
  {
   "cell_type": "markdown",
   "metadata": {},
   "source": [
    "## Our task\n",
    "\n",
    "- Analyze traffic violations\n",
    "  - Which makes of car are involved in the most traffic violations?"
   ]
  },
  {
   "cell_type": "markdown",
   "metadata": {},
   "source": [
    "## Expectations\n",
    "\n",
    "- This is an introduction\n",
    "- Programmming takes practice\n",
    "- You need a real problem to work on"
   ]
  },
  {
   "cell_type": "markdown",
   "metadata": {},
   "source": [
    "## Other materials\n",
    "\n",
    "### Tutorial\n",
    "\n",
    "This site has examples that you can experiment with online:\n",
    "\n",
    "    https://www.w3schools.com/python/\n",
    "\n",
    "### Books\n",
    "\n",
    "- Available for free, online, through Firestone Library -- O’Reilly for Higher Education (formerly known as Safari Tech Books Online) \n",
    "- To find these:\n",
    "\n",
    "  - Visit: https://library.princeton.edu/resource/4063\n",
    "  - Click \"Access Resource\".\n",
    "  - Search for the book title.\n",
    "\n",
    "**Introducing Python, 2nd Edition, Bill Lubanovic**\n",
    "\n",
    "**Python for Data Analysis, 3rd Edition, Wes McKinney, O'Reilly Media, Inc.**\n",
    "\n"
   ]
  },
  {
   "cell_type": "markdown",
   "metadata": {},
   "source": [
    "## Acknowledgements\n",
    "\n",
    "- Jon Halverson\n",
    "- Ma. Florevel (Floe) Fusin-Wischusen\n",
    "- Andrea Rubinstein\n",
    "- PICSciE -- The Princeton Institute for Computational Science and Engineering\n"
   ]
  },
  {
   "cell_type": "code",
   "execution_count": null,
   "metadata": {},
   "outputs": [],
   "source": []
  }
 ],
 "metadata": {
  "kernelspec": {
   "display_name": "Python 3 (ipykernel)",
   "language": "python",
   "name": "python3"
  },
  "language_info": {
   "codemirror_mode": {
    "name": "ipython",
    "version": 3
   },
   "file_extension": ".py",
   "mimetype": "text/x-python",
   "name": "python",
   "nbconvert_exporter": "python",
   "pygments_lexer": "ipython3",
   "version": "3.9.7"
  }
 },
 "nbformat": 4,
 "nbformat_minor": 4
}

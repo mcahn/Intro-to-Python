{
 "cells": [
  {
   "cell_type": "markdown",
   "metadata": {},
   "source": [
    "## Importing Modules\n",
    "\n",
    "- Much of the power of Python can be found in external modules\n",
    "- Many modules come with Anaconda Python\n",
    "- NumPy -- Numerical processing\n",
    "  - https://numpy.org/\n",
    "  - Tutorials: https://numpy.org/doc/stable/\n",
    "  - PICSciE workshop: https://researchcomputing.princeton.edu/events/2021/introduction-data-analysis-using-python-0  (Waiting list)\n",
    "- Pandas -- Data analysis and manipulation tool\n",
    "  - https://pandas.pydata.org/\n",
    "  - User guide: https://pandas.pydata.org/docs/user_guide/index.html\n",
    "  - PICSciE workshop: https://researchcomputing.princeton.edu/events/2021/introduction-data-analysis-using-python-0  (Waiting list)\n",
    "- Matplotlib -- Comprehensive library for creating static, animated, and interactive visualizations in Python.\n",
    "  - https://matplotlib.org/"
   ]
  },
  {
   "cell_type": "code",
   "execution_count": 9,
   "metadata": {},
   "outputs": [
    {
     "name": "stdout",
     "output_type": "stream",
     "text": [
      "The area of a circle of radius 3.0 is 28.274333882308138\n"
     ]
    }
   ],
   "source": [
    "# Example of importing a module\n",
    "\n",
    "import math\n",
    "\n",
    "area = math.pi * 3.0 ** 2\n",
    "\n",
    "print('The area of a circle of radius 3.0 is', area)"
   ]
  },
  {
   "cell_type": "markdown",
   "metadata": {},
   "source": [
    "## Exceptions\n",
    "\n",
    "- When something goes wrong in Python, an \"exception\" is \"raised\".\n",
    "- You can catch these and take action using the try/except statements."
   ]
  },
  {
   "cell_type": "code",
   "execution_count": 7,
   "metadata": {
    "collapsed": true
   },
   "outputs": [
    {
     "ename": "ZeroDivisionError",
     "evalue": "division by zero",
     "output_type": "error",
     "traceback": [
      "\u001b[0;31m---------------------------------------------------------------------------\u001b[0m",
      "\u001b[0;31mZeroDivisionError\u001b[0m                         Traceback (most recent call last)",
      "\u001b[0;32m<ipython-input-7-6433c2f82c27>\u001b[0m in \u001b[0;36m<module>\u001b[0;34m\u001b[0m\n\u001b[1;32m      6\u001b[0m \u001b[0mdenominator\u001b[0m \u001b[0;34m=\u001b[0m \u001b[0;36m0\u001b[0m\u001b[0;34m\u001b[0m\u001b[0;34m\u001b[0m\u001b[0m\n\u001b[1;32m      7\u001b[0m \u001b[0;34m\u001b[0m\u001b[0m\n\u001b[0;32m----> 8\u001b[0;31m \u001b[0mresult\u001b[0m \u001b[0;34m=\u001b[0m \u001b[0mnumerator\u001b[0m \u001b[0;34m/\u001b[0m \u001b[0mdenominator\u001b[0m\u001b[0;34m\u001b[0m\u001b[0;34m\u001b[0m\u001b[0m\n\u001b[0m\u001b[1;32m      9\u001b[0m \u001b[0mprint\u001b[0m\u001b[0;34m(\u001b[0m\u001b[0;34m'result:'\u001b[0m\u001b[0;34m,\u001b[0m \u001b[0mresult\u001b[0m\u001b[0;34m)\u001b[0m\u001b[0;34m\u001b[0m\u001b[0;34m\u001b[0m\u001b[0m\n",
      "\u001b[0;31mZeroDivisionError\u001b[0m: division by zero"
     ]
    }
   ],
   "source": [
    "# Example of raising an exception\n",
    "\n",
    "# This raises a ZeroDivisionError\n",
    "\n",
    "numerator = 10\n",
    "denominator = 0\n",
    "\n",
    "result = numerator / denominator\n",
    "print('result:', result)"
   ]
  },
  {
   "cell_type": "code",
   "execution_count": 10,
   "metadata": {
    "collapsed": true
   },
   "outputs": [
    {
     "name": "stdout",
     "output_type": "stream",
     "text": [
      "An error occurred: division by zero\n",
      "result: 0.0\n"
     ]
    }
   ],
   "source": [
    "# Example of raising and catching an exception\n",
    "\n",
    "# This catches a ZeroDivisionError\n",
    "\n",
    "numerator = 10\n",
    "denominator = 0\n",
    "\n",
    "try:\n",
    "    result = numerator / denominator\n",
    "except ZeroDivisionError as err:\n",
    "    result = 0.0\n",
    "    print('An error occurred:', err)\n",
    "print('result:', result)"
   ]
  },
  {
   "cell_type": "markdown",
   "metadata": {},
   "source": [
    "## Sets\n",
    "\n",
    "- A Set is a built-in Python data type\n",
    "- A collection of unique objects\n",
    "- Like a dictionary with keys and no values"
   ]
  },
  {
   "cell_type": "code",
   "execution_count": 17,
   "metadata": {},
   "outputs": [
    {
     "name": "stdout",
     "output_type": "stream",
     "text": [
      "s1: {1, 2, 3}\n",
      "s2: {1, 4, 5, 6}\n",
      "s1s2Intersection: {1}\n",
      "s1s2Union: {1, 2, 3, 4, 5, 6}\n"
     ]
    }
   ],
   "source": [
    "s1 = set([1,2,3,2,1])\n",
    "s2 = set([1,4,5,6])\n",
    "s1s2Intersection = s1.intersection(s2)\n",
    "s1s2Union = s1.union(s2)\n",
    "print('s1:', s1)\n",
    "print('s2:', s2)\n",
    "print('s1s2Intersection:', s1s2Intersection)\n",
    "print('s1s2Union:', s1s2Union)"
   ]
  },
  {
   "cell_type": "markdown",
   "metadata": {},
   "source": [
    "## The Collections module\n",
    "\n",
    "- Specialized container datatypes providing alternatives to Python’s general purpose built-in containers, dict, list, set, and tuple.\n",
    "- https://docs.python.org/3/library/collections.html"
   ]
  },
  {
   "cell_type": "code",
   "execution_count": 22,
   "metadata": {
    "collapsed": true
   },
   "outputs": [
    {
     "name": "stdout",
     "output_type": "stream",
     "text": [
      "TOYOTA 11122\n",
      "HONDA 10479\n",
      "FORD 9664\n",
      "TOYT 5767\n",
      "NISSAN 5316\n",
      "HOND 3990\n",
      "CHEV 3220\n",
      "BMW 2813\n",
      "DODGE 2783\n",
      "CHEVY 2445\n"
     ]
    }
   ],
   "source": [
    "# collections.Counter example\n",
    "\n",
    "import collections\n",
    "\n",
    "makes = collections.Counter()\n",
    "\n",
    "openFile = open('Traffic_Violations-filtered.csv')\n",
    "\n",
    "for line in openFile:\n",
    "\n",
    "    columns = line.split('|')\n",
    "    \n",
    "    make = columns[21]\n",
    "    makes[make] += 1\n",
    "    \n",
    "openFile.close()\n",
    "\n",
    "for make, count in makes.most_common(10):\n",
    "    print(make, count)"
   ]
  },
  {
   "cell_type": "code",
   "execution_count": null,
   "metadata": {},
   "outputs": [],
   "source": []
  }
 ],
 "metadata": {
  "kernelspec": {
   "display_name": "Python 3",
   "language": "python",
   "name": "python3"
  },
  "language_info": {
   "codemirror_mode": {
    "name": "ipython",
    "version": 3
   },
   "file_extension": ".py",
   "mimetype": "text/x-python",
   "name": "python",
   "nbconvert_exporter": "python",
   "pygments_lexer": "ipython3",
   "version": "3.8.8"
  }
 },
 "nbformat": 4,
 "nbformat_minor": 4
}

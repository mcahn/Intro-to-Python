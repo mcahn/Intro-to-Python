{
 "cells": [
  {
   "cell_type": "markdown",
   "metadata": {},
   "source": [
    "## Functions, continued"
   ]
  },
  {
   "cell_type": "markdown",
   "metadata": {},
   "source": [
    "## Exercise 19\n",
    "\n",
    "- Write a function to compute the number of violations per 1000 cars of a particular make\n",
    "  - The function should take, as arguments, a make and a number of violations,\n",
    "  - and return the number of violations per 1000 cars of that make.\n",
    "- Print the number of violations for each make per 1000 vehicles\n",
    "- Below is a dictionary of the number of cars on the road in Maryland for each make."
   ]
  },
  {
   "cell_type": "code",
   "execution_count": 34,
   "metadata": {},
   "outputs": [],
   "source": [
    "carsOnRoad = {'ACURA': 27458,\n",
    "'ALFA ROMEO': 3735,\n",
    "'AUDI': 34839,\n",
    "'BMW': 50956,\n",
    "'BUICK': 35521,\n",
    "'CADILLAC': 23297,\n",
    "'CHEVROLET': 330381,\n",
    "'CHRYSLER': 13857,\n",
    "'DODGE': 43756,\n",
    "'FIAT': 1339,\n",
    "'FORD': 411035,\n",
    "'GENESIS': 3585,\n",
    "'GMC': 101759,\n",
    "'HONDA': 266044,\n",
    "'HYUNDAI': 139378,\n",
    "'INFINITI': 16097,\n",
    "'JAGUAR': 4320,\n",
    "'JEEP': 176713,\n",
    "'KIA': 125302,\n",
    "'LAND ROVER': 14500,\n",
    "'LEXUS': 50458,\n",
    "'LINCOLN': 21280,\n",
    "'MAZDA': 61199,\n",
    "'MERCEDES': 69505,\n",
    "'MINI': 5288,\n",
    "'MITSUBISHI': 12197,\n",
    "'NISSAN': 161317,\n",
    "'PORSCHE': 12193,\n",
    "'RAM': 127682,\n",
    "'SMART': 15023,\n",
    "'SUBARU': 136519,\n",
    "'TESLA': 36800,\n",
    "'TOYOTA': 347571,\n",
    "'VOLKSWAGEN': 69933,\n",
    "'VOLVO': 23770,}"
   ]
  },
  {
   "cell_type": "code",
   "execution_count": null,
   "metadata": {},
   "outputs": [],
   "source": []
  }
 ],
 "metadata": {
  "kernelspec": {
   "display_name": "Python 3 (ipykernel)",
   "language": "python",
   "name": "python3"
  },
  "language_info": {
   "codemirror_mode": {
    "name": "ipython",
    "version": 3
   },
   "file_extension": ".py",
   "mimetype": "text/x-python",
   "name": "python",
   "nbconvert_exporter": "python",
   "pygments_lexer": "ipython3",
   "version": "3.9.7"
  }
 },
 "nbformat": 4,
 "nbformat_minor": 4
}

{
 "cells": [
  {
   "cell_type": "markdown",
   "metadata": {},
   "source": [
    "## Dictionaries\n",
    "\n",
    "- A dictionary is a collection of key/value pairs.\n",
    "- A dictionary is like a list, but:\n",
    "  - The indexes (that is, the keys) are not necessarily integers.\n",
    "  - The elements are not stored in any particular order."
   ]
  },
  {
   "cell_type": "code",
   "execution_count": 1,
   "metadata": {
    "collapsed": true
   },
   "outputs": [
    {
     "name": "stdout",
     "output_type": "stream",
     "text": [
      "{'dog': 'Canis familiaris', 'cat': 'Felis catus', 'mouse': 'Mus musculus'}\n"
     ]
    }
   ],
   "source": [
    "species = {'dog': 'Canis familiaris',\n",
    "           'cat': 'Felis catus',\n",
    "           'mouse': 'Mus musculus'}\n",
    "\n",
    "print(species)"
   ]
  },
  {
   "cell_type": "markdown",
   "metadata": {},
   "source": [
    "- Dictionaries values are accessed by keys."
   ]
  },
  {
   "cell_type": "code",
   "execution_count": 2,
   "metadata": {
    "collapsed": true
   },
   "outputs": [
    {
     "name": "stdout",
     "output_type": "stream",
     "text": [
      "Felis catus\n"
     ]
    }
   ],
   "source": [
    "print(species['cat'])"
   ]
  },
  {
   "cell_type": "markdown",
   "metadata": {},
   "source": [
    "- To add an item (a key/value pair) to a dictionary, simply assign a value to the new key."
   ]
  },
  {
   "cell_type": "code",
   "execution_count": 3,
   "metadata": {
    "collapsed": true
   },
   "outputs": [
    {
     "name": "stdout",
     "output_type": "stream",
     "text": [
      "{'dog': 'Canis familiaris', 'cat': 'Felis catus', 'mouse': 'Mus musculus', 'rat': 'Rattus norvegicus'}\n"
     ]
    }
   ],
   "source": [
    "species['rat'] = 'Rattus norvegicus'\n",
    "\n",
    "print(species)"
   ]
  },
  {
   "cell_type": "markdown",
   "metadata": {},
   "source": [
    "### Lists vs. dictionaries\n",
    "\n",
    "- Use a list when the order matters:\n",
    "\n",
    "|Index|Value|\n",
    "|---|---|\n",
    "| 0 | 'dog' |\n",
    "| 1 | 'cat' |\n",
    "| 2 | 'mouse' |\n",
    "\n",
    "- Use a dictionary when you want to look up values at random (quickly):\n",
    "\n",
    "|Key|Value|\n",
    "|---|---|\n",
    "| 'dog' | 'Canis familiaris' |\n",
    "| 'cat' | 'Felis catus' |\n",
    "| 'mouse' | 'Mus musculus' |\n"
   ]
  },
  {
   "cell_type": "markdown",
   "metadata": {},
   "source": [
    "### Brackets and braces\n",
    "\n",
    "- Lists are created with square brackets:"
   ]
  },
  {
   "cell_type": "code",
   "execution_count": 4,
   "metadata": {},
   "outputs": [],
   "source": [
    "animals = ['dog', 'cat', 'mouse']"
   ]
  },
  {
   "cell_type": "markdown",
   "metadata": {},
   "source": [
    "- Dictionaries are created with curly braces:"
   ]
  },
  {
   "cell_type": "code",
   "execution_count": 5,
   "metadata": {},
   "outputs": [],
   "source": [
    "species = {'dog': 'Canis familiaris', 'cat': 'Felis catus', 'mouse': 'Mus musculus'}"
   ]
  },
  {
   "cell_type": "markdown",
   "metadata": {},
   "source": [
    "- But indexing is always done with square brackets:"
   ]
  },
  {
   "cell_type": "code",
   "execution_count": 6,
   "metadata": {
    "collapsed": true
   },
   "outputs": [
    {
     "name": "stdout",
     "output_type": "stream",
     "text": [
      "dog\n",
      "Canis familiaris\n"
     ]
    }
   ],
   "source": [
    "print(animals[0])\n",
    "print(species['dog'])"
   ]
  },
  {
   "cell_type": "markdown",
   "metadata": {},
   "source": [
    "### Dictionary keys and values"
   ]
  },
  {
   "cell_type": "code",
   "execution_count": 7,
   "metadata": {
    "collapsed": true
   },
   "outputs": [
    {
     "name": "stdout",
     "output_type": "stream",
     "text": [
      "dict_keys(['dog', 'cat', 'mouse'])\n"
     ]
    }
   ],
   "source": [
    "# Get all the keys using the keys method\n",
    "\n",
    "print(species.keys())"
   ]
  },
  {
   "cell_type": "code",
   "execution_count": 8,
   "metadata": {
    "collapsed": true
   },
   "outputs": [
    {
     "name": "stdout",
     "output_type": "stream",
     "text": [
      "dict_values(['Canis familiaris', 'Felis catus', 'Mus musculus'])\n"
     ]
    }
   ],
   "source": [
    "# Get all the values using the values method\n",
    "\n",
    "print(species.values())"
   ]
  },
  {
   "cell_type": "markdown",
   "metadata": {},
   "source": [
    "### Iterating over a dictionary\n",
    "\n",
    "- When you use a dictionary in a for loop, you get each key."
   ]
  },
  {
   "cell_type": "code",
   "execution_count": 9,
   "metadata": {
    "collapsed": true
   },
   "outputs": [
    {
     "name": "stdout",
     "output_type": "stream",
     "text": [
      "dog :  Canis familiaris\n",
      "cat :  Felis catus\n",
      "mouse :  Mus musculus\n"
     ]
    }
   ],
   "source": [
    "# Iterate over a dictionary\n",
    "\n",
    "for animal in species:\n",
    "    print(animal, ': ', species[animal])"
   ]
  },
  {
   "cell_type": "code",
   "execution_count": null,
   "metadata": {},
   "outputs": [],
   "source": []
  }
 ],
 "metadata": {
  "kernelspec": {
   "display_name": "Python 3 (ipykernel)",
   "language": "python",
   "name": "python3"
  },
  "language_info": {
   "codemirror_mode": {
    "name": "ipython",
    "version": 3
   },
   "file_extension": ".py",
   "mimetype": "text/x-python",
   "name": "python",
   "nbconvert_exporter": "python",
   "pygments_lexer": "ipython3",
   "version": "3.9.7"
  }
 },
 "nbformat": 4,
 "nbformat_minor": 4
}

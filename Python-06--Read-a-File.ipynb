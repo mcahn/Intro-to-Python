{
 "cells": [
  {
   "cell_type": "markdown",
   "metadata": {},
   "source": [
    "### Read a file and print it out\n",
    "\n",
    "- To read a file you first have to open it.\n",
    "- Once it's open you can read it with a for loop.\n",
    "- When you're done reading it, close it.\n",
    "- An open file is an iterable, so you can use it in a for loop.\n",
    "\n",
    "We supply two files:\n",
    "- Traffic_Violations-filtered.csv\n",
    "- Traffic_Violations-short.csv -- just the first six lines of that file"
   ]
  },
  {
   "cell_type": "code",
   "execution_count": 3,
   "metadata": {
    "collapsed": true
   },
   "outputs": [
    {
     "name": "stdout",
     "output_type": "stream",
     "text": [
      "Date Of Stop|Time Of Stop|Agency|SubAgency|Description|Location|Latitude|Longitude|Accident|Belts|Personal Injury|Property Damage|Fatal|Commercial License|HAZMAT|Commercial Vehicle|Alcohol|Work Zone|State|VehicleType|Year|Make|Model|Color|Violation Type|Charge|Article|Contributed To Accident|Race|Gender|Driver City|Driver State|DL State|Arrest Type|Geolocation\n",
      "\n",
      "09/24/2013|17:11:00|MCP|3rd district, Silver Spring|DRIVING VEHICLE ON HIGHWAY WITH SUSPENDED REGISTRATION|8804 FLOWER AVE|||No|No|No|No|No|No|No|No|No|No|MD|02 - Automobile|2008|FORD|4S|BLACK|Citation|13-401(h)|Transportation Article|No|BLACK|M|TAKOMA PARK|MD|MD|A - Marked Patrol|\n",
      "\n",
      "12/20/2012|00:41:00|MCP|2nd district, Bethesda|DRIVING WHILE IMPAIRED BY ALCOHOL|NORFOLK AVE /  ST ELMO AVE|38.9835782|-77.09310515|No|No|No|No|No|No|No|No|No|No|MD|02 - Automobile|2005|AUDI|4S|GRAY|Citation|21-902(b1)|Transportation Article|No|WHITE|M|DERWOOD|MD|MD|A - Marked Patrol|(38.9835782, -77.09310515)\n",
      "\n",
      "07/20/2012|23:12:00|MCP|5th district, Germantown|FAILURE TO STOP AT STOP SIGN|WISTERIA DR @ WARING STATION RD|39.1618098167|-77.25358095|No|No|No|No|No|No|No|No|No|No|MD|02 - Automobile|2002|TOYT|4S|RED|Citation|21-707(a)|Transportation Article|No|ASIAN|F|GERMANTOWN|MD|MD|A - Marked Patrol|(39.1618098166667, -77.25358095)\n",
      "\n",
      "03/19/2012|16:10:00|MCP|2nd district, Bethesda|DRIVER USING HANDS TO USE HANDHELD TELEPHONE WHILEMOTOR VEHICLE IS IN MOTION|CLARENDON RD @ ELM ST. N/|38.9827307333|-77.1007551667|No|No|No|No|No|No|No|No|No|No|VA|02 - Automobile|1996|HONDA|CIVIC|SILVER|Citation|21-1124.2(d2)|Transportation Article|No|HISPANIC|M|ARLINGTON|VA|VA|A - Marked Patrol|(38.9827307333333, -77.1007551666667)\n",
      "\n",
      "12/01/2014|12:52:00|MCP|6th district, Gaithersburg / Montgomery Village|FAILURE STOP AND YIELD AT THRU HWY|CHRISTOPHER AVE/MONTGOMERY VILLAGE AVE|39.1628883333|-77.2290883333|No|No|No|Yes|No|No|No|No|No|No|MD|02 - Automobile|2001|HONDA|ACCORD|SILVER|Citation|21-403(b)|Transportation Article|No|BLACK|F|UPPER MARLBORO|MD|MD|A - Marked Patrol|(39.1628883333333, -77.2290883333333)\n",
      "\n"
     ]
    }
   ],
   "source": [
    "# Open a file\n",
    "\n",
    "openFile = open('Traffic_Violations-short.csv')\n",
    "\n",
    "# Iterate through every line in the file.\n",
    "\n",
    "for line in openFile:\n",
    "    \n",
    "    # Print the current line\n",
    "    \n",
    "    print(line)\n",
    "\n",
    "# Close the file\n",
    "\n",
    "openFile.close()        # <=== Don't forget to close the file!"
   ]
  },
  {
   "cell_type": "markdown",
   "metadata": {},
   "source": [
    "## Exercise 06\n",
    "\n",
    "- line is a variable.  Modify the cell above to print the type of the variable line.\n",
    "- See notebook Python-04--Variables+Strings\n",
    "- How can you print the type only once?"
   ]
  },
  {
   "cell_type": "code",
   "execution_count": null,
   "metadata": {},
   "outputs": [],
   "source": []
  }
 ],
 "metadata": {
  "kernelspec": {
   "display_name": "Python 3 (ipykernel)",
   "language": "python",
   "name": "python3"
  },
  "language_info": {
   "codemirror_mode": {
    "name": "ipython",
    "version": 3
   },
   "file_extension": ".py",
   "mimetype": "text/x-python",
   "name": "python",
   "nbconvert_exporter": "python",
   "pygments_lexer": "ipython3",
   "version": "3.9.7"
  }
 },
 "nbformat": 4,
 "nbformat_minor": 2
}

{
 "cells": [
  {
   "cell_type": "markdown",
   "metadata": {},
   "source": [
    "## \"if\" statements\n",
    "\n",
    "- An \"if\" statement causes the indented code to do something under certain conditions."
   ]
  },
  {
   "cell_type": "code",
   "execution_count": 1,
   "metadata": {
    "collapsed": true
   },
   "outputs": [
    {
     "name": "stdout",
     "output_type": "stream",
     "text": [
      "x equals 1\n"
     ]
    }
   ],
   "source": [
    "x = 1\n",
    "\n",
    "# Test if x is equal to 1.  The double equal sign tests for equality.\n",
    "\n",
    "if x == 1:\n",
    "    print('x equals 1')"
   ]
  },
  {
   "cell_type": "markdown",
   "metadata": {},
   "source": [
    "- \"else\" covers the other conditions."
   ]
  },
  {
   "cell_type": "code",
   "execution_count": 2,
   "metadata": {
    "collapsed": true
   },
   "outputs": [
    {
     "name": "stdout",
     "output_type": "stream",
     "text": [
      "x is not equal to 1\n"
     ]
    }
   ],
   "source": [
    "x = 77\n",
    "\n",
    "if x == 1:\n",
    "    print('x equals 1')\n",
    "else:\n",
    "    print('x is not equal to 1')"
   ]
  },
  {
   "cell_type": "markdown",
   "metadata": {},
   "source": [
    "- You can also have one or more \"elif\" statements to cover other conditions. "
   ]
  },
  {
   "cell_type": "code",
   "execution_count": 3,
   "metadata": {
    "collapsed": true
   },
   "outputs": [
    {
     "name": "stdout",
     "output_type": "stream",
     "text": [
      "x equals 2\n"
     ]
    }
   ],
   "source": [
    "x = 2\n",
    "\n",
    "if x == 1:\n",
    "    print('x equals 1')\n",
    "elif x == 2:\n",
    "    print('x equals 2')\n",
    "else:\n",
    "    print('x is not equal to 1 or 2')"
   ]
  },
  {
   "cell_type": "code",
   "execution_count": 5,
   "metadata": {
    "collapsed": true
   },
   "outputs": [
    {
     "name": "stdout",
     "output_type": "stream",
     "text": [
      "x is not equal to 1 or 2\n"
     ]
    }
   ],
   "source": [
    "# Same as above, but now x is set to 3.\n",
    "\n",
    "x = 3\n",
    "\n",
    "if x == 1:\n",
    "    print('x equals 1')\n",
    "elif x == 2:\n",
    "    print('x equals 2')\n",
    "else:\n",
    "    print('x is not equal to 1 or 2')"
   ]
  },
  {
   "cell_type": "markdown",
   "metadata": {},
   "source": [
    "- The \"in\" operator tests if an element is in a collection"
   ]
  },
  {
   "cell_type": "code",
   "execution_count": 6,
   "metadata": {
    "collapsed": true
   },
   "outputs": [
    {
     "name": "stdout",
     "output_type": "stream",
     "text": [
      "dog is in animals\n"
     ]
    }
   ],
   "source": [
    "# Check if something is in a list\n",
    "\n",
    "animals = ['dog', 'cat', 'mouse']\n",
    "\n",
    "if 'dog' in animals:\n",
    "    print('dog is in animals')\n",
    "else:\n",
    "    print('dog is not in animals')"
   ]
  },
  {
   "cell_type": "markdown",
   "metadata": {},
   "source": [
    "- \"not in\" tests if an elment is **not** in a collection"
   ]
  },
  {
   "cell_type": "code",
   "execution_count": 7,
   "metadata": {
    "collapsed": true
   },
   "outputs": [
    {
     "name": "stdout",
     "output_type": "stream",
     "text": [
      "['dog', 'cat', 'mouse', 'rat']\n"
     ]
    }
   ],
   "source": [
    "# Check if something is not in a list\n",
    "\n",
    "if 'rat' not in animals:\n",
    "    animals.append('rat')\n",
    "    \n",
    "print(animals)"
   ]
  },
  {
   "cell_type": "markdown",
   "metadata": {},
   "source": [
    "- Every object in Python is either True or False, when used in an \"if\" statement.\n",
    "  - A list with at least one item is True.  An empty list is False.\n",
    "  - The same for a string.\n",
    "  - The same for any other kind of collection."
   ]
  },
  {
   "cell_type": "code",
   "execution_count": 8,
   "metadata": {
    "collapsed": true
   },
   "outputs": [
    {
     "name": "stdout",
     "output_type": "stream",
     "text": [
      "mylist is empty\n"
     ]
    }
   ],
   "source": [
    "mylist = []\n",
    "if mylist:\n",
    "    print('mylist is not empty')\n",
    "else:\n",
    "    print('mylist is empty')"
   ]
  },
  {
   "cell_type": "markdown",
   "metadata": {},
   "source": [
    "## Exercise 13\n",
    "\n",
    "- Modify the cell below so that the list of makes includes each make only once.\n",
    "- Sort the list in alphabetical order.\n",
    "- Print the first 100 makes of car, one per line."
   ]
  },
  {
   "cell_type": "code",
   "execution_count": 12,
   "metadata": {
    "collapsed": true
   },
   "outputs": [
    {
     "name": "stdout",
     "output_type": "stream",
     "text": [
      "Found 60000 makes\n"
     ]
    }
   ],
   "source": [
    "openFile = open('Traffic_Violations-filtered.csv')\n",
    "\n",
    "makeCol = 21\n",
    "\n",
    "makes = []\n",
    "\n",
    "for line in openFile:\n",
    "    columns = line.split('|')\n",
    "    \n",
    "    makes.append(columns[makeCol])\n",
    "        \n",
    "print('Found', len(makes), 'makes')"
   ]
  },
  {
   "cell_type": "code",
   "execution_count": null,
   "metadata": {},
   "outputs": [],
   "source": []
  }
 ],
 "metadata": {
  "kernelspec": {
   "display_name": "Python 3 (ipykernel)",
   "language": "python",
   "name": "python3"
  },
  "language_info": {
   "codemirror_mode": {
    "name": "ipython",
    "version": 3
   },
   "file_extension": ".py",
   "mimetype": "text/x-python",
   "name": "python",
   "nbconvert_exporter": "python",
   "pygments_lexer": "ipython3",
   "version": "3.9.7"
  }
 },
 "nbformat": 4,
 "nbformat_minor": 4
}

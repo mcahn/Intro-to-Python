{
 "cells": [
  {
   "cell_type": "markdown",
   "metadata": {},
   "source": [
    "## Start Jupyter\n",
    "\n",
    "- Windows\n",
    "  - In the Start menu, select Anaconda3 (64-bit) => Jupyter Notebook (Anaconda3)\n",
    "\n",
    "\n",
    "- Mac\n",
    "  - Open a Terminal (type “terminal” in Spotlight (the magnifying glass)).  In the terminal, type:\n",
    "    - `jupyter notebook`\n",
    "\n",
    "\n",
    "- Linux\n",
    "  - Open a Terminal and, in the Terminal, type:\n",
    "    - `jupyter notebook`\n",
    "\n",
    "A web browser should open, displaying a list of files and directories in your home folder, as shown below.\n",
    "\n",
    "If the web browser does not open automatically, copy/paste one of the URLs starting with “http:” shown in the terminal or command window into a web browser.  The web browser should display a list of files and directories in your home folder.\n"
   ]
  },
  {
   "cell_type": "markdown",
   "metadata": {},
   "source": [
    "## Download the iPython notebooks for the workshop\n",
    "\n",
    "- Visit https://github.com/mcahn/Intro-to-Python\n",
    "\n",
    "- Click on the green Code button and choose Download ZIP from the menu (and save the downloaded file, if asked what to do with it).\n",
    "\n",
    "- The zip file should download to the Downloads folder on your laptop.\n",
    "\n",
    "- It may be necessary to extract the zip file yourself\n",
    "\n",
    "  - On a Mac, in Finder, find the file in Downloads and double-click it.\n",
    "\n",
    "  - On Windows, in Windows Explorer, find the file in your Downloads folder, right-click on it, and choose “Extract all…”.\n",
    "\n",
    "- In Jupyter, navigate to your Downloads folder (or wherever you downloaded to).\n",
    "\n",
    "- Click on \"Intro-to-Python-master\" (**not** the zip file!)\n",
    "\n",
    "- You should now see a list of the notebooks for the workshop."
   ]
  },
  {
   "cell_type": "code",
   "execution_count": null,
   "metadata": {},
   "outputs": [],
   "source": []
  }
 ],
 "metadata": {
  "kernelspec": {
   "display_name": "Python 3 (ipykernel)",
   "language": "python",
   "name": "python3"
  },
  "language_info": {
   "codemirror_mode": {
    "name": "ipython",
    "version": 3
   },
   "file_extension": ".py",
   "mimetype": "text/x-python",
   "name": "python",
   "nbconvert_exporter": "python",
   "pygments_lexer": "ipython3",
   "version": "3.9.7"
  }
 },
 "nbformat": 4,
 "nbformat_minor": 4
}

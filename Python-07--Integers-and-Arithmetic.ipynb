{
 "cells": [
  {
   "cell_type": "markdown",
   "metadata": {},
   "source": [
    "## Integers and Arithmetic\n",
    "\n",
    "- Integers are numbers that do not have decimal places:\n",
    "```\n",
    "..., -3, -2, -1, 0, 1, 2, 3, ...\n",
    "```"
   ]
  },
  {
   "cell_type": "code",
   "execution_count": 2,
   "metadata": {
    "collapsed": true
   },
   "outputs": [
    {
     "name": "stdout",
     "output_type": "stream",
     "text": [
      "1\n",
      "<class 'int'>\n"
     ]
    }
   ],
   "source": [
    "x = 1\n",
    "print(x)\n",
    "print(type(x))"
   ]
  },
  {
   "cell_type": "markdown",
   "metadata": {},
   "source": [
    "- 'int' is what Python calls an integer.\n",
    "- Once something has been created, it's called an \"object\".\n",
    "- Everything in Python is an \"object\".\n",
    "- x is an object whose class (aka data type) is int."
   ]
  },
  {
   "cell_type": "markdown",
   "metadata": {},
   "source": [
    "### Arithmetic\n"
   ]
  },
  {
   "cell_type": "markdown",
   "metadata": {},
   "source": [
    "### Operators\n",
    "\n",
    "- \\+ is the addition operator."
   ]
  },
  {
   "cell_type": "code",
   "execution_count": 3,
   "metadata": {
    "collapsed": true
   },
   "outputs": [
    {
     "name": "stdout",
     "output_type": "stream",
     "text": [
      "3\n"
     ]
    }
   ],
   "source": [
    "y = 2\n",
    "z = x + y\n",
    "print(z)"
   ]
  },
  {
   "cell_type": "code",
   "execution_count": 4,
   "metadata": {
    "collapsed": true
   },
   "outputs": [
    {
     "name": "stdout",
     "output_type": "stream",
     "text": [
      "I added 1 to z and now z is 4\n"
     ]
    }
   ],
   "source": [
    "z = z + 1\n",
    "print('I added 1 to z and now z is', z)"
   ]
  },
  {
   "cell_type": "markdown",
   "metadata": {},
   "source": [
    "### The arithmetic operators\n",
    "\n",
    "```\n",
    "+ addition\n",
    "- subtraction\n",
    "* mutiplication\n",
    "/ division\n",
    "// floor division, that is 8 // 3 equals 2\n",
    "** exponentiation\n",
    "% modulus (remainder after integer division)\n",
    "```"
   ]
  },
  {
   "cell_type": "markdown",
   "metadata": {},
   "source": [
    "## Exercise 07\n",
    "\n",
    "- Modify the cell below to count the total number of lines in the file and print the number.\n",
    "\n",
    "- Note: print the number only once.\n"
   ]
  },
  {
   "cell_type": "code",
   "execution_count": 1,
   "metadata": {},
   "outputs": [],
   "source": [
    "openFile = open('Traffic_Violations-filtered.csv')\n",
    "\n",
    "for line in openFile:\n",
    "    pass        # pass is just a placeholder, it doesn't do anything\n",
    "\n",
    "openFile.close()\n"
   ]
  }
 ],
 "metadata": {
  "kernelspec": {
   "display_name": "Python 3",
   "language": "python",
   "name": "python3"
  },
  "language_info": {
   "codemirror_mode": {
    "name": "ipython",
    "version": 3
   },
   "file_extension": ".py",
   "mimetype": "text/x-python",
   "name": "python",
   "nbconvert_exporter": "python",
   "pygments_lexer": "ipython3",
   "version": "3.8.8"
  }
 },
 "nbformat": 4,
 "nbformat_minor": 2
}

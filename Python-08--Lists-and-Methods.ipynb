{
 "cells": [
  {
   "cell_type": "markdown",
   "metadata": {},
   "source": [
    "## Lists\n",
    "\n",
    "- A list is a collection of Python objects, such as strings or integers."
   ]
  },
  {
   "cell_type": "code",
   "execution_count": 1,
   "metadata": {
    "collapsed": true
   },
   "outputs": [
    {
     "name": "stdout",
     "output_type": "stream",
     "text": [
      "['dog', 'cat', 'mouse']\n"
     ]
    }
   ],
   "source": [
    "# Create a list of three strings\n",
    "\n",
    "animals = ['dog', 'cat', 'mouse']\n",
    "\n",
    "print(animals)"
   ]
  },
  {
   "cell_type": "markdown",
   "metadata": {},
   "source": [
    "### Methods\n",
    "\n",
    "- \"append\" is a method of the list object \"animals\".\n",
    "\n",
    "- It knows how to attach things to the end of the list."
   ]
  },
  {
   "cell_type": "code",
   "execution_count": 2,
   "metadata": {
    "collapsed": true
   },
   "outputs": [
    {
     "name": "stdout",
     "output_type": "stream",
     "text": [
      "['dog', 'cat', 'mouse', 'rat']\n"
     ]
    }
   ],
   "source": [
    "# Attach something to the end of the list\n",
    "\n",
    "animals.append('rat')\n",
    "print(animals)"
   ]
  },
  {
   "cell_type": "markdown",
   "metadata": {},
   "source": [
    "- \"sort\" is also a method of the list animals. It puts the things in the list in order."
   ]
  },
  {
   "cell_type": "code",
   "execution_count": 3,
   "metadata": {
    "collapsed": true
   },
   "outputs": [
    {
     "name": "stdout",
     "output_type": "stream",
     "text": [
      "['cat', 'dog', 'mouse', 'rat']\n"
     ]
    }
   ],
   "source": [
    "# Sort a list in order\n",
    "\n",
    "animals.sort()\n",
    "\n",
    "print(animals)"
   ]
  },
  {
   "cell_type": "markdown",
   "metadata": {},
   "source": [
    "- You can make an empty list."
   ]
  },
  {
   "cell_type": "code",
   "execution_count": 4,
   "metadata": {
    "collapsed": true
   },
   "outputs": [
    {
     "name": "stdout",
     "output_type": "stream",
     "text": [
      "[]\n"
     ]
    }
   ],
   "source": [
    "anotherList = []\n",
    "\n",
    "print(anotherList)"
   ]
  },
  {
   "cell_type": "markdown",
   "metadata": {},
   "source": [
    "## Exercise 08\n",
    "\n",
    "- Create a list containing three integers. Be sure the itegers *are not* in numerical order.\n",
    "- Sort the list in numerical order and print it out.\n",
    "- Using a for loop, print out each integer in your list, one per line.\n",
    "- See notebook Python-05--For-Loops"
   ]
  },
  {
   "cell_type": "markdown",
   "metadata": {},
   "source": [
    "### Operator overloading\n",
    "\n",
    "Operator overloading is just a fancy term for operators doing different things depending on what they are operating on.\n",
    "\n",
    "- For lists and strings, \"+\" means concatenation (joining together).\n",
    "- For integers, \"+\" means addition.\n",
    "- Operator over-loading is feature of object-oriented programming.\n",
    "  - Python is an object-oriented language."
   ]
  },
  {
   "cell_type": "code",
   "execution_count": 5,
   "metadata": {
    "collapsed": true
   },
   "outputs": [
    {
     "name": "stdout",
     "output_type": "stream",
     "text": [
      "Hi there.\n"
     ]
    }
   ],
   "source": [
    "sOne = 'Hi '\n",
    "sTwo = 'there.'\n",
    "sThree = sOne + sTwo\n",
    "print(sThree)"
   ]
  },
  {
   "cell_type": "code",
   "execution_count": 6,
   "metadata": {
    "collapsed": true
   },
   "outputs": [
    {
     "name": "stdout",
     "output_type": "stream",
     "text": [
      "[1, 2, 3, 4, 5, 6]\n"
     ]
    }
   ],
   "source": [
    "listOne = [1, 2, 3]\n",
    "listTwo = [4, 5, 6]\n",
    "listThree = listOne + listTwo\n",
    "print(listThree)"
   ]
  },
  {
   "cell_type": "code",
   "execution_count": null,
   "metadata": {},
   "outputs": [],
   "source": []
  }
 ],
 "metadata": {
  "kernelspec": {
   "display_name": "Python 3 (ipykernel)",
   "language": "python",
   "name": "python3"
  },
  "language_info": {
   "codemirror_mode": {
    "name": "ipython",
    "version": 3
   },
   "file_extension": ".py",
   "mimetype": "text/x-python",
   "name": "python",
   "nbconvert_exporter": "python",
   "pygments_lexer": "ipython3",
   "version": "3.9.7"
  }
 },
 "nbformat": 4,
 "nbformat_minor": 2
}

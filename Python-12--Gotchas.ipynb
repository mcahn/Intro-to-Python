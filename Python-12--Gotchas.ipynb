{
 "cells": [
  {
   "cell_type": "markdown",
   "metadata": {},
   "source": [
    "## Gotchas"
   ]
  },
  {
   "cell_type": "markdown",
   "metadata": {},
   "source": [
    "- Strings are immutable\n",
    "- Lists are mutable\n",
    "- Therefore...\n",
    "  - string methods (the ones that produce strings) *return new strings*\n",
    "  - list methods usually change lists *in-place* and return the constant `None`"
   ]
  },
  {
   "cell_type": "code",
   "execution_count": 3,
   "metadata": {
    "collapsed": true
   },
   "outputs": [
    {
     "name": "stdout",
     "output_type": "stream",
     "text": [
      "sSpaces:   abcdef    <== spaces\n",
      "sStripped: abcdef <== no spaces\n"
     ]
    }
   ],
   "source": [
    "sSpaces = 'abcdef   '\n",
    "sStripped = sSpaces.strip()          # strip returns a new string\n",
    "print('sSpaces:  ', sSpaces, '<== spaces')\n",
    "print('sStripped:', sStripped, '<== no spaces')"
   ]
  },
  {
   "cell_type": "code",
   "execution_count": 4,
   "metadata": {
    "collapsed": true
   },
   "outputs": [
    {
     "name": "stdout",
     "output_type": "stream",
     "text": [
      "[1, 2, 3]\n"
     ]
    }
   ],
   "source": [
    "listA = [3,2,1]\n",
    "listA.sort()\n",
    "print(listA)"
   ]
  },
  {
   "cell_type": "code",
   "execution_count": 5,
   "metadata": {
    "collapsed": true
   },
   "outputs": [
    {
     "name": "stdout",
     "output_type": "stream",
     "text": [
      "None\n"
     ]
    }
   ],
   "source": [
    "listA = [3,2,1]\n",
    "\n",
    "# WRONG\n",
    "# sort orders the list in-place and returns None\n",
    "listASorted = listA.sort()\n",
    "\n",
    "print(listASorted)"
   ]
  },
  {
   "cell_type": "markdown",
   "metadata": {},
   "source": [
    "- **Everything in Python is a reference**"
   ]
  },
  {
   "cell_type": "code",
   "execution_count": 6,
   "metadata": {
    "collapsed": true
   },
   "outputs": [
    {
     "name": "stdout",
     "output_type": "stream",
     "text": [
      "listA: [1, 2, 3, 4]\n",
      "listB: [1, 2, 3, 4]\n"
     ]
    }
   ],
   "source": [
    "listA = [1, 2, 3]\n",
    "listB = listA\n",
    "listA.append(4)\n",
    "print('listA:', listA)\n",
    "print('listB:', listB)"
   ]
  },
  {
   "cell_type": "markdown",
   "metadata": {},
   "source": [
    "- In the example above, listB is **not** a copy of listA.\n",
    "- Both listA and listB are references *to the same list*."
   ]
  },
  {
   "cell_type": "markdown",
   "metadata": {},
   "source": [
    "- To make a copy of a list so that you really have two different lists...\n",
    "- Take a slice of the whole list."
   ]
  },
  {
   "cell_type": "code",
   "execution_count": 7,
   "metadata": {
    "collapsed": true
   },
   "outputs": [
    {
     "name": "stdout",
     "output_type": "stream",
     "text": [
      "listC: [1, 2, 3, 4]\n",
      "listD: [1, 2, 3]\n"
     ]
    }
   ],
   "source": [
    "listC = [1,2,3]\n",
    "listD = listC[:]           # A slice of the whole list.\n",
    "listC.append(4)\n",
    "print('listC:', listC)\n",
    "print('listD:', listD)"
   ]
  },
  {
   "cell_type": "code",
   "execution_count": null,
   "metadata": {},
   "outputs": [],
   "source": []
  }
 ],
 "metadata": {
  "kernelspec": {
   "display_name": "Python 3 (ipykernel)",
   "language": "python",
   "name": "python3"
  },
  "language_info": {
   "codemirror_mode": {
    "name": "ipython",
    "version": 3
   },
   "file_extension": ".py",
   "mimetype": "text/x-python",
   "name": "python",
   "nbconvert_exporter": "python",
   "pygments_lexer": "ipython3",
   "version": "3.9.7"
  }
 },
 "nbformat": 4,
 "nbformat_minor": 4
}

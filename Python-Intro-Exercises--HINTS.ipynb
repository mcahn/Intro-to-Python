{
 "cells": [
  {
   "cell_type": "markdown",
   "metadata": {},
   "source": [
    "## Python-Intro-Exercises--HINTS"
   ]
  },
  {
   "cell_type": "markdown",
   "metadata": {},
   "source": [
    "## Exercise 05\n",
    "\n",
    "- Print the numbers from 10 to 20, one number per line.\n",
    "- Be sure to include the number 20.\n",
    "\n",
    "#### Hints\n",
    "\n",
    "- Write a for loop.\n",
    "- Use the range function.\n",
    "- Remember that the second argument to the range function must be one more than what you want."
   ]
  },
  {
   "cell_type": "markdown",
   "metadata": {},
   "source": [
    "## Exercise 06\n",
    "\n",
    "- line is a variable.  Modify the cell above to print the type of the variable line.\n",
    "  - Hint: See notebook Python-010--strings|\n",
    "\n",
    "- How can you print the type only once?\n",
    "\n",
    "#### Hints\n",
    "\n",
    "- The \"type\" function gives the type of its argument.\n",
    "- Where you place the print function determines how many times it will print."
   ]
  },
  {
   "cell_type": "markdown",
   "metadata": {},
   "source": [
    "## Exercise 07\n",
    "\n",
    "- Modify the cell below to count the total number of lines in the file and print the number.\n",
    "\n",
    "- Note: print the number only once.\n",
    "\n",
    "#### Hints\n",
    "\n",
    "- Think of a variable name that will keep track of the count of lines.\n",
    "- Set that variable to 0 before the for loop.\n",
    "- Add one to the value of that variable inside the loop.\n",
    "- Print that number after the loop.\n"
   ]
  },
  {
   "cell_type": "markdown",
   "metadata": {},
   "source": [
    "## Exercise 08\n",
    "\n",
    "- Create a list containing three integers. Be sure the itegers *are not* in numerical order.\n",
    "\n",
    "- Sort the list in numerical order and print it out.\n",
    "\n",
    "- Using a for loop, print out each integer in your list, one per line.\n",
    "\n",
    "#### Hints\n",
    "\n",
    "- Think of a name for your list.\n",
    "- Set that variable to three integers, separated by commas, inside square brackets.\n",
    "- Use the \"sort\" method of your list.\n",
    "- Put your list in a for loop."
   ]
  },
  {
   "cell_type": "markdown",
   "metadata": {},
   "source": [
    "## Exercise 09\n",
    "\n",
    "- Using a slice, print \"cat\" and \"mouse\" from the list of animals.\n",
    "\n",
    "#### Hints\n",
    "\n",
    "- A slice consists of two number, separated by a colon, inside square brackets.\n",
    "- List indexes start from 0.\n",
    "- The ending number must be one more than whatever you want."
   ]
  },
  {
   "cell_type": "markdown",
   "metadata": {},
   "source": [
    "## Exercise 10\n",
    "\n",
    "- Make string which contains some commas.\n",
    "- Print the string.\n",
    "- Do this: help(yourString.split) *replacing yourString with your string variable*\n",
    "- Split the string at each comma to create a list.\n",
    "- Print the list.\n",
    "\n",
    "#### Hints\n",
    "\n",
    "- The \"split\" method is used to break up a string.\n",
    "- The \"split\" method returns a list.\n",
    "- The (optional) argument to \"split\" is a character that you want to split on."
   ]
  },
  {
   "cell_type": "markdown",
   "metadata": {},
   "source": [
    "## Exercise 11\n",
    "\n",
    "- Modify the code below to create a list of strings.\n",
    "- Each string in the list should be one line from the file.\n",
    "- The first line of the file is the column headings.  Print every column heading on a separate line, along with a number that represents which column the heading comes from.\n",
    "- The numbering should start from zero.\n",
    "- For example:\n",
    "\n",
    "```\n",
    "0 Date Of Stop\n",
    "1 Time Of Stop\n",
    "2 Agency\n",
    "...\n",
    "```\n",
    "\n",
    "#### Hints\n",
    "\n",
    "- Think of a name for the list of strings.\n",
    "- Create the list empty (before the for loop).\n",
    "- Inside the for loop, append each line from the file to your list.\n",
    "- The first line from the file is now in your list at index 0.\n",
    "- After the for loop, split that first line on each vertical bar ('|), resulting in a second list (which will be a list of the column headings).\n",
    "- Create another for loop.\n",
    "- Before that loop, create a variable that will be used to number the columns, set to 0.\n",
    "- In the loop, print the column and the number.\n",
    "- Still in the loop, add 1 to the number."
   ]
  },
  {
   "cell_type": "markdown",
   "metadata": {},
   "source": [
    "## Exercise 13\n",
    "\n",
    "- Modify the cell below so that the list of makes includes each make only once.\n",
    "- Sort the list in alphabetical order.\n",
    "- Put the makes in alphabetical order.\n",
    "- Print the first 100 makes of car, one per line.\n",
    "\n",
    "#### Hints\n",
    "\n",
    "- The make of the car is at index 21 in the list \"columns\".\n",
    "- Use an \"if\" statement to see if the current make is in the list of makes or not.\n",
    "- If it is not, then use the append method of \"makes\" to add the current make to the list.\n",
    "- Use the sort method of \"makes\" to put the list in alphabetical order.\n",
    "- Write a \"for\" loop to iterate over the first 100 makes.\n",
    "- You can get just the first 100 with a slice."
   ]
  },
  {
   "cell_type": "markdown",
   "metadata": {},
   "source": [
    "## Exercise 15\n",
    "\n",
    "- Modify the cell below to count how often each make of car is involved in a traffic violation.\n",
    "\n",
    "- Hints:\n",
    "  - Each make of car will be a dictionary key.\n",
    "  - The count for each make will be a dictionary value.\n",
    "  - The first for loop (the one that reads the file) will do the counting\n",
    "  - You will need an \"if\" statement to check if a make is in the dictionary or not.\n",
    "  - A second for loop (that you add) will print the makes and their counts.\n",
    "  \n",
    "#### More Hints\n",
    "\n",
    "- A hard-coded example:\n",
    "```\n",
    "if 'Honda' not in someDictionary:\n",
    "    someDictionary['Honda'] = 1\n",
    "else:\n",
    "    ...\n",
    "```\n"
   ]
  },
  {
   "cell_type": "markdown",
   "metadata": {},
   "source": [
    "## Exercise 16\n",
    "\n",
    "- Modify the cell below to count how often each make and model of car is involved in a traffic violation.\n",
    "\n",
    "- Hints:\n",
    "  - Each make and model of car will a tuple, used as a dictionary key.\n",
    "  - The count for each make and model will be a dictionary value.\n",
    "  - The first for loop (the one that reads the file) will do the counting\n",
    "  - You will need an \"if\" statement to check if a make and model is in the dictionary or not.\n",
    "  - A second for loop (that you add) will print the makes/models and their counts.\n",
    "  \n",
    "#### More Hints\n",
    "\n",
    "- A hard-coded example:\n",
    "```\n",
    "if ('Honda', 'Accord') not in someDictionary:\n",
    "    someDictionary[('Honda', 'Accord')] = 1\n",
    "else:\n",
    "    ...\n",
    "```"
   ]
  },
  {
   "cell_type": "markdown",
   "metadata": {},
   "source": [
    "## Exercise 18\n",
    "\n",
    "- Write a function that converts Fahrenheit to Celsius\n",
    "- Print a Fahrenheit to Celsius conversion table from 32 F to 212 F\n",
    "- The forumla is:\n",
    "  - C = 5/9 x (F - 32)\n",
    "  \n",
    "- Hints:\n",
    "  - You will need a for loop using the range function.\n",
    "  - Parentheses effect the order of arithmetic operations.\n",
    "  \n",
    "#### More Hints\n",
    "\n",
    "- Write a function using the \"def\" statement.\n",
    "- The function argument will be a variable that will contain the Fahrenheit temperature.\n",
    "- Use the \"return\" statement to return the celsius temperature.\n",
    "- Write a \"for\" loop using the \"range\" function.\n",
    "- Inside the loop, call your function.\n",
    "- Print the Fahrenheit temperature (which was created by your \"for\" statement), and the celsius temperature, which was returned by your function."
   ]
  },
  {
   "cell_type": "code",
   "execution_count": null,
   "metadata": {},
   "outputs": [],
   "source": []
  }
 ],
 "metadata": {
  "kernelspec": {
   "display_name": "Python 3 (ipykernel)",
   "language": "python",
   "name": "python3"
  },
  "language_info": {
   "codemirror_mode": {
    "name": "ipython",
    "version": 3
   },
   "file_extension": ".py",
   "mimetype": "text/x-python",
   "name": "python",
   "nbconvert_exporter": "python",
   "pygments_lexer": "ipython3",
   "version": "3.9.7"
  }
 },
 "nbformat": 4,
 "nbformat_minor": 4
}

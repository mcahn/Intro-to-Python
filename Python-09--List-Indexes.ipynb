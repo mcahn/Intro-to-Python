{
 "cells": [
  {
   "cell_type": "markdown",
   "metadata": {},
   "source": [
    "## List indexes\n",
    "\n",
    "- Indexes are used to access individual items in a list.\n",
    "- Indexes are integers, starting from 0."
   ]
  },
  {
   "cell_type": "code",
   "execution_count": 1,
   "metadata": {
    "collapsed": true
   },
   "outputs": [
    {
     "name": "stdout",
     "output_type": "stream",
     "text": [
      "animals:  ['dog', 'cat', 'mouse', 'rat']\n",
      "animals[0]: dog\n",
      "animals[3]: rat\n"
     ]
    }
   ],
   "source": [
    "animals = ['dog', 'cat', 'mouse', 'rat']\n",
    "\n",
    "print('animals: ', animals)\n",
    "\n",
    "print('animals[0]:', animals[0])\n",
    "\n",
    "print('animals[3]:', animals[3])"
   ]
  },
  {
   "cell_type": "markdown",
   "metadata": {},
   "source": [
    "## Slices\n",
    "\n",
    "- You can specify a range of indexes -- this is called a \"slice\".\n",
    "\n",
    "- The slice is specified as a starting index, a colon, and a number that is **one more than the ending index** you want."
   ]
  },
  {
   "cell_type": "code",
   "execution_count": 2,
   "metadata": {
    "collapsed": true
   },
   "outputs": [
    {
     "name": "stdout",
     "output_type": "stream",
     "text": [
      "animals[0:2]: ['dog', 'cat']\n"
     ]
    }
   ],
   "source": [
    "print('animals[0:2]:', animals[0:2])"
   ]
  },
  {
   "cell_type": "markdown",
   "metadata": {},
   "source": [
    "- You can omit one or both indexes\n",
    "  - The starting index defaults to 0.\n",
    "  - The ending index defaults to the end of the list."
   ]
  },
  {
   "cell_type": "code",
   "execution_count": 4,
   "metadata": {
    "collapsed": true
   },
   "outputs": [
    {
     "name": "stdout",
     "output_type": "stream",
     "text": [
      "animals[:2]: ['dog', 'cat']\n",
      "animals[1:]: ['cat', 'mouse', 'rat']\n"
     ]
    }
   ],
   "source": [
    "# Use the default starting index.\n",
    "\n",
    "print('animals[:2]:', animals[:2])\n",
    "\n",
    "# Use the default ending index.\n",
    "\n",
    "print('animals[1:]:', animals[1:])"
   ]
  },
  {
   "cell_type": "markdown",
   "metadata": {},
   "source": [
    "- Negative indexes start from the end"
   ]
  },
  {
   "cell_type": "code",
   "execution_count": 5,
   "metadata": {
    "collapsed": true
   },
   "outputs": [
    {
     "name": "stdout",
     "output_type": "stream",
     "text": [
      "animals[-1]: rat\n"
     ]
    }
   ],
   "source": [
    "print('animals[-1]:', animals[-1])"
   ]
  },
  {
   "cell_type": "markdown",
   "metadata": {},
   "source": [
    "- Guido van Rossum (inventor of Python), *Why Python uses 0-based indexing.* October 24, 2013:\n",
    "  - http://python-history.blogspot.com/2013/10/why-python-uses-0-based-indexing.html\n",
    "  \n",
    "  >Let's first look at use cases. Probably the most common use cases for slicing are \"get the first n items\" and \"get the next n items starting at i\".\n",
    "  \n",
    "  > Using 0-based indexing, half-open intervals, and suitable defaults (as Python ended up having), they are beautiful: a[:n] and a[i:i+n]; the former is long for a[0:n].\n",
    "  \n",
    "- Blog comment by Guido:\n",
    "\n",
    "> To anyone who prefers 1-based indexing: you are the same people who screwed up the calendar, starting at year 1 and calling the 1900s the 20th century (and arguing that the year 2001 ought to be the start of the next millennium). Haven't you done enough damage? :-)"
   ]
  },
  {
   "cell_type": "markdown",
   "metadata": {},
   "source": [
    "## Exercise 09\n",
    "\n",
    "- Using a slice, print \"cat\" and \"mouse\" from the list of animals.\n",
    "- Don't forget to execute the cell near the top where animals is defined,\n",
    "or cut/paste that code into your new cell."
   ]
  },
  {
   "cell_type": "code",
   "execution_count": null,
   "metadata": {},
   "outputs": [],
   "source": []
  }
 ],
 "metadata": {
  "kernelspec": {
   "display_name": "Python 3",
   "language": "python",
   "name": "python3"
  },
  "language_info": {
   "codemirror_mode": {
    "name": "ipython",
    "version": 3
   },
   "file_extension": ".py",
   "mimetype": "text/x-python",
   "name": "python",
   "nbconvert_exporter": "python",
   "pygments_lexer": "ipython3",
   "version": "3.8.8"
  }
 },
 "nbformat": 4,
 "nbformat_minor": 4
}

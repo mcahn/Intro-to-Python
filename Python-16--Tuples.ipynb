{
 "cells": [
  {
   "cell_type": "markdown",
   "metadata": {},
   "source": [
    "## Tuples\n",
    "\n",
    "- A tuple is like a list, except it's immutable.\n",
    "- That is, after you create it...\n",
    "  - You cannot change the contents of a slot\n",
    "  - You cannot change the number of slots (there is no append method)"
   ]
  },
  {
   "cell_type": "code",
   "execution_count": 1,
   "metadata": {
    "collapsed": true
   },
   "outputs": [
    {
     "name": "stdout",
     "output_type": "stream",
     "text": [
      "('dog', 'cat', 'mouse')\n"
     ]
    }
   ],
   "source": [
    "# Create a tuple of three strings\n",
    "\n",
    "animals = ('dog', 'cat', 'mouse')\n",
    "\n",
    "print(animals)"
   ]
  },
  {
   "cell_type": "markdown",
   "metadata": {},
   "source": [
    "- Tuples are accessed with indexes, just like a list."
   ]
  },
  {
   "cell_type": "code",
   "execution_count": 2,
   "metadata": {
    "collapsed": true
   },
   "outputs": [
    {
     "name": "stdout",
     "output_type": "stream",
     "text": [
      "dog\n"
     ]
    }
   ],
   "source": [
    "print(animals[0])"
   ]
  },
  {
   "cell_type": "markdown",
   "metadata": {},
   "source": [
    "- Automatic tuple unpacking\n",
    "  - A tuple on the right of an \"=\" contains n things.\n",
    "  - There are n variables to the left of the \"=\".\n",
    "- Python will assign each item from the tuple to the variables, in order."
   ]
  },
  {
   "cell_type": "code",
   "execution_count": 2,
   "metadata": {},
   "outputs": [
    {
     "name": "stdout",
     "output_type": "stream",
     "text": [
      "Temperature: 71.5\n",
      "Date:        2021-01-14\n",
      "Location:    Frist\n"
     ]
    }
   ],
   "source": [
    "tup = (71.5, '2021-01-14', 'Frist')\n",
    "temperature, date, location = tup\n",
    "\n",
    "print('Temperature:', temperature)\n",
    "print('Date:       ', date)\n",
    "print('Location:   ', location)"
   ]
  },
  {
   "cell_type": "markdown",
   "metadata": {},
   "source": [
    "- Automatic tuple unpacking is often used with a \"for\" loop."
   ]
  },
  {
   "cell_type": "code",
   "execution_count": 4,
   "metadata": {
    "collapsed": true
   },
   "outputs": [
    {
     "name": "stdout",
     "output_type": "stream",
     "text": [
      "dog :  Canis familiaris\n",
      "cat :  Felis catus\n",
      "mouse :  Mus musculus\n"
     ]
    }
   ],
   "source": [
    "species = {'dog': 'Canis familiaris', 'cat': 'Felis catus', 'mouse': 'Mus musculus'}\n",
    "\n",
    "for commonName, latinName in species.items():\n",
    "    print(commonName, ': ', latinName)"
   ]
  },
  {
   "cell_type": "markdown",
   "metadata": {},
   "source": [
    "- Automatic tuple unpacking can be used to swap values"
   ]
  },
  {
   "cell_type": "code",
   "execution_count": 8,
   "metadata": {
    "collapsed": true
   },
   "outputs": [
    {
     "name": "stdout",
     "output_type": "stream",
     "text": [
      "x: 2\n",
      "y: 1\n"
     ]
    }
   ],
   "source": [
    "x = 1\n",
    "y = 2\n",
    "y, x = x, y\n",
    "print('x:', x)\n",
    "print('y:', y)"
   ]
  },
  {
   "cell_type": "code",
   "execution_count": 5,
   "metadata": {
    "collapsed": true
   },
   "outputs": [
    {
     "name": "stdout",
     "output_type": "stream",
     "text": [
      "1\n",
      "1\n",
      "1\n"
     ]
    }
   ],
   "source": [
    "# Reminder:\n",
    "\n",
    "# A list is created with square brackets\n",
    "\n",
    "mylist = [1,2,3]\n",
    "\n",
    "# A dictionary is created with curly braces\n",
    "\n",
    "mydictionary = {'one': 1, 'two': 2, 'three': 3}\n",
    "\n",
    "# A tuple is created with parentheses:\n",
    "\n",
    "mytuple = (1,2,3)\n",
    "\n",
    "# But all access is done with square brackets:\n",
    "\n",
    "print(mylist[0])\n",
    "print(mydictionary['one'])\n",
    "print(mytuple[0])"
   ]
  },
  {
   "cell_type": "markdown",
   "metadata": {},
   "source": [
    "- You can make a tuple with only one slot"
   ]
  },
  {
   "cell_type": "code",
   "execution_count": 4,
   "metadata": {
    "collapsed": true
   },
   "outputs": [
    {
     "name": "stdout",
     "output_type": "stream",
     "text": [
      "('one',)\n",
      "<class 'tuple'>\n",
      "one\n",
      "<class 'str'>\n"
     ]
    }
   ],
   "source": [
    "oneTup = ('one',)\n",
    "\n",
    "print(oneTup)\n",
    "print(type(oneTup))\n",
    "notTup = ('one')\n",
    "\n",
    "print(notTup)\n",
    "print(type(notTup))"
   ]
  },
  {
   "cell_type": "markdown",
   "metadata": {},
   "source": [
    "- Question: What good is an object that's like a list but cannot be changed?\n",
    "  - You might want a container of things that won't change.\n",
    "  - A tuple can be a dictionary key, whereas a list cannot.\n",
    "\n",
    "- Question: So what can be a dictionary key?\n",
    "  - Any Python object that cannot be changed (any immutable object):\n",
    "    - Integer, String, Tuple, and other types you'll meet.\n",
    "  - Not an object that can be changed (a mutable object):\n",
    "    - Not a list or a dictionary"
   ]
  },
  {
   "cell_type": "markdown",
   "metadata": {},
   "source": [
    "## Exercise 16\n",
    "\n",
    "- Modify the cell below to count how often each make and model of car is involved in a traffic violation.\n",
    "\n",
    "- Hints:\n",
    "  - Each make and model of car will be a tuple, used as a dictionary key.\n",
    "  - The count for each make and model will be a dictionary value.\n",
    "  - The first for loop (the one that reads the file) will do the counting\n",
    "  - You will need an \"if\" statement to check if a make and model is in the dictionary or not.\n",
    "  - A second for loop (that you add) will print the makes/models and their counts."
   ]
  },
  {
   "cell_type": "code",
   "execution_count": null,
   "metadata": {},
   "outputs": [],
   "source": [
    "openFile = open('Traffic_Violations-filtered.csv')\n",
    "\n",
    "for line in openFile:\n",
    "    columns = line.split('|')\n",
    "    \n",
    "    make = columns[21]\n",
    "        \n",
    "openFile.close()"
   ]
  },
  {
   "cell_type": "code",
   "execution_count": null,
   "metadata": {},
   "outputs": [],
   "source": []
  }
 ],
 "metadata": {
  "kernelspec": {
   "display_name": "Python 3",
   "language": "python",
   "name": "python3"
  },
  "language_info": {
   "codemirror_mode": {
    "name": "ipython",
    "version": 3
   },
   "file_extension": ".py",
   "mimetype": "text/x-python",
   "name": "python",
   "nbconvert_exporter": "python",
   "pygments_lexer": "ipython3",
   "version": "3.8.3"
  }
 },
 "nbformat": 4,
 "nbformat_minor": 4
}
